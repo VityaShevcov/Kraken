{
 "cells": [
  {
   "cell_type": "code",
   "execution_count": 1,
   "metadata": {},
   "outputs": [],
   "source": [
    "from Tools import *"
   ]
  },
  {
   "cell_type": "code",
   "execution_count": 2,
   "metadata": {},
   "outputs": [],
   "source": [
    "# Задаем значение для генератора случайных чисел\n",
    "seed_value = 23\n",
    "np.random.seed(seed_value)"
   ]
  },
  {
   "cell_type": "code",
   "execution_count": 3,
   "metadata": {},
   "outputs": [
    {
     "data": {
      "text/plain": [
       "(36156, 10)"
      ]
     },
     "execution_count": 3,
     "metadata": {},
     "output_type": "execute_result"
    }
   ],
   "source": [
    "## creating dataset\n",
    "c = 12052\n",
    "X1 = pd.DataFrame()\n",
    "X1['var_1'] = np.random.rand(c)\n",
    "X1['var_2'] = np.random.rand(c)\n",
    "X1['var_3'] = np.random.rand(c)\n",
    "X1['var_4'] = np.random.rand(c)\n",
    "X1['var_5'] = np.random.rand(c)\n",
    "X1['var_6'] = np.random.rand(c)\n",
    "X1['var_7'] = np.random.rand(c)\n",
    "X1['var_8'] = np.random.rand(c)\n",
    "X1['var_9'] = np.random.rand(c)\n",
    "X1['date'] = pd.date_range(start='1990-01-01', end='2022-12-30', freq='D')\n",
    "\n",
    "## creating dependence y ~ x1 + 3x2 - x1^(1.5) + noise\n",
    "y1 = X1['var_1'] + 3 * X1['var_2'] - np.power(X1['var_3'], 1.5) + np.random.rand(c)\n",
    "\n",
    "X2 = pd.DataFrame()\n",
    "X2['var_1'] = np.random.rand(c)\n",
    "X2['var_2'] = np.random.rand(c)\n",
    "X2['var_3'] = np.random.rand(c)\n",
    "X2['var_4'] = np.random.rand(c)\n",
    "X2['var_5'] = np.random.rand(c)\n",
    "X2['var_6'] = np.random.rand(c)\n",
    "X2['var_7'] = np.random.rand(c)\n",
    "X2['var_8'] = np.random.rand(c)\n",
    "X2['var_9'] = np.random.rand(c)\n",
    "X2['date'] = pd.date_range(start='1990-01-01', end='2022-12-30', freq='D')\n",
    "\n",
    "y2 = X2['var_1'] + 3 * X2['var_2'] - np.power(X2['var_3'], 1.5) + np.random.rand(c)\n",
    "\n",
    "X3 = pd.DataFrame()\n",
    "X3['var_1'] = np.random.rand(c)\n",
    "X3['var_2'] = np.random.rand(c)\n",
    "X3['var_3'] = np.random.rand(c)\n",
    "X3['var_4'] = np.random.rand(c)\n",
    "X3['var_5'] = np.random.rand(c)\n",
    "X3['var_6'] = np.random.rand(c)\n",
    "X3['var_7'] = np.random.rand(c)\n",
    "X3['var_8'] = np.random.rand(c)\n",
    "X3['var_9'] = np.random.rand(c)\n",
    "X3['date'] = pd.date_range(start='1990-01-01', end='2022-12-30', freq='D')\n",
    "\n",
    "y3 = X3['var_1'] + 3 * X3['var_2'] - np.power(X3['var_3'], 1.5) + np.random.rand(c)\n",
    "\n",
    "X = pd.concat([X1, X2, X3])\n",
    "y = pd.concat([y1, y2, y3])\n",
    "X.shape"
   ]
  },
  {
   "cell_type": "code",
   "execution_count": 4,
   "metadata": {},
   "outputs": [
    {
     "name": "stdout",
     "output_type": "stream",
     "text": [
      "1\n",
      "треин мин 2012-04-27 00:00:00 треин макс 2020-07-13 00:00:00 shape (9000, 11)\n",
      "тест мин 2020-07-14 00:00:00 тест макс 2021-05-09 00:00:00 shape (900, 11)\n",
      "2\n",
      "треин мин 2013-02-21 00:00:00 треин макс 2021-05-09 00:00:00 shape (9000, 11)\n",
      "тест мин 2021-05-10 00:00:00 тест макс 2022-03-05 00:00:00 shape (900, 11)\n",
      "3\n",
      "треин мин 2013-12-18 00:00:00 треин макс 2022-03-05 00:00:00 shape (9000, 11)\n",
      "тест мин 2022-03-06 00:00:00 тест макс 2022-12-30 00:00:00 shape (900, 11)\n"
     ]
    }
   ],
   "source": [
    "# creating cross validator\n",
    "cv_datetime = DateTimeSeriesSplit(window=3000, n_splits=3, test_size=300, margin=0)\n",
    "group_dt = X['date']\n",
    "\n",
    "## get parametres from train and test for each fold\n",
    "for fold, (train_idx, val_idx) in enumerate(cv_datetime.split(X, groups=group_dt), 1):\n",
    "    print(fold)\n",
    "    train, test = X.iloc[train_idx], X.iloc[val_idx]\n",
    "    print(f'треин мин {train.date.min()} треин макс {train.date.max()} shape {train.shape}')\n",
    "    print(f'тест мин {test.date.min()} тест макс {test.date.max()} shape {test.shape}')"
   ]
  },
  {
   "cell_type": "code",
   "execution_count": 5,
   "metadata": {},
   "outputs": [],
   "source": [
    "# create model for selector\n",
    "from lightgbm import LGBMRegressor\n",
    "model = LGBMRegressor(max_depth=3, objective='MAPE', verbosity = -1)\n",
    "\n",
    "# create list from which we will take vars for model creating\n",
    "list_of_vars = list(X.columns)\n",
    "list_of_vars.remove('date')\n",
    "list_of_vars.remove('index_time')"
   ]
  },
  {
   "cell_type": "code",
   "execution_count": 6,
   "metadata": {},
   "outputs": [],
   "source": [
    "# import metrics for var selection\n",
    "from sklearn.metrics import mean_absolute_percentage_error as MAPE\n",
    "\n",
    "# create selector\n",
    "selector1 = Kraken(model, cv_datetime, MAPE, 'exp1')"
   ]
  },
  {
   "cell_type": "code",
   "execution_count": 7,
   "metadata": {},
   "outputs": [
    {
     "name": "stderr",
     "output_type": "stream",
     "text": [
      "Could not find the number of physical cores for the following reason:\n",
      "found 0 physical cores < 1\n",
      "Returning the number of logical cores instead. You can silence this warning by setting LOKY_MAX_CPU_COUNT to the number of cores you want to use.\n",
      "  File \"c:\\Users\\vitya\\OneDrive\\Рабочий стол\\venvs\\hardml\\lib\\site-packages\\joblib\\externals\\loky\\backend\\context.py\", line 245, in _count_physical_cores\n",
      "    raise ValueError(\n"
     ]
    },
    {
     "data": {
      "text/plain": [
       "{'var_2': 1,\n",
       " 'var_3': 2,\n",
       " 'var_1': 3,\n",
       " 'var_9': 4,\n",
       " 'var_7': 5,\n",
       " 'var_4': 6,\n",
       " 'var_6': 7,\n",
       " 'var_8': 8,\n",
       " 'var_5': 9}"
      ]
     },
     "execution_count": 7,
     "metadata": {},
     "output_type": "execute_result"
    }
   ],
   "source": [
    "# get rank dict from vars\n",
    "selector1.get_rank_dict(X, y, list_of_vars, group_dt)\n",
    "\n",
    "# get ranked dict in descending order of abs shap value\n",
    "selector1.rank_dict"
   ]
  },
  {
   "cell_type": "code",
   "execution_count": 8,
   "metadata": {},
   "outputs": [
    {
     "name": "stdout",
     "output_type": "stream",
     "text": [
      "запуск первого шага\n",
      "new var_for_add ! var_2\n",
      "едем дальше\n",
      "в итоге получили список ['var_2']\n",
      "запуск первого шага\n",
      "new var_for_add ! var_3\n",
      "едем дальше\n",
      "в итоге получили список ['var_2', 'var_3']\n",
      "запуск первого шага\n",
      "new var_for_add ! var_1\n",
      "едем дальше\n",
      "в итоге получили список ['var_2', 'var_3', 'var_1']\n",
      "запуск первого шага\n",
      "мы сошлись\n",
      "['var_2', 'var_3', 'var_1']\n",
      "0.247\n"
     ]
    },
    {
     "data": {
      "text/plain": [
       "['var_2', 'var_3', 'var_1']"
      ]
     },
     "execution_count": 8,
     "metadata": {},
     "output_type": "execute_result"
    }
   ],
   "source": [
    "## get vars\n",
    "selector1.get_vars(X, y, early_stopping_rounds = 10, group_dt = group_dt)"
   ]
  }
 ],
 "metadata": {
  "kernelspec": {
   "display_name": "hardml",
   "language": "python",
   "name": "python3"
  },
  "language_info": {
   "codemirror_mode": {
    "name": "ipython",
    "version": 3
   },
   "file_extension": ".py",
   "mimetype": "text/x-python",
   "name": "python",
   "nbconvert_exporter": "python",
   "pygments_lexer": "ipython3",
   "version": "3.10.11"
  }
 },
 "nbformat": 4,
 "nbformat_minor": 2
}
